{
  "nbformat": 4,
  "nbformat_minor": 0,
  "metadata": {
    "colab": {
      "provenance": []
    },
    "kernelspec": {
      "name": "python3",
      "display_name": "Python 3"
    },
    "language_info": {
      "name": "python"
    }
  },
  "cells": [
    {
      "cell_type": "markdown",
      "source": [
        "# **Theory Questions And Answers**"
      ],
      "metadata": {
        "id": "cUU4svP0MBdm"
      }
    },
    {
      "cell_type": "code",
      "execution_count": null,
      "metadata": {
        "id": "Ury4Okw_L1MP"
      },
      "outputs": [],
      "source": [
        "\"\"\"\n",
        "1Q) what is the difference between a function and a method in Python?\n",
        "Ans) Function:\n",
        "      1) A function is a block of code that performs a task.\n",
        "      2)You can create it using def.\n",
        "      3)It can be used anywhere in your program.\n",
        "\n",
        "       Example:\n",
        "       def greet():\n",
        "           print(\"Hello!\")\n",
        "\n",
        "        greet()  # calling the function\n",
        "\n",
        "       Method:\n",
        "       1)A method is also a function, but it belongs to an object (like a string, list, etc.).\n",
        "        2)It is called using a dot (.) with the object\n",
        "\n",
        "          Example:\n",
        "          name = \"yameen\"\n",
        "          print(name.upper())  # upper() is a method of string\n",
        "\n",
        "\n",
        "2Q). Explain the concept of function arguments and parameters in Python.\n",
        "Ans)  Function Arguments and Parameters in Python\n",
        "       In Python, parameters and arguments are used to pass data into a function.\n",
        "\n",
        "     1) Parameters are the names used when a function is defined.\n",
        "      They act like placeholders for the values.\n",
        "\n",
        "      2)Arguments are the actual values passed to the function when it is called.\n",
        "\n",
        "        Example:\n",
        "          def greet(name):       # 'name' is a parameter\n",
        "              print(\"Hello\", name)\n",
        "\n",
        "           greet(\"Yameen\")        # \"Yameen\" is the argument\n",
        "\n",
        "         In short:\n",
        "          1) Parameters = inside function definition\n",
        "\n",
        "           2)Arguments = inside function call\n",
        "\n",
        "           3)They help in making functions more flexible and reusable.\n",
        "\n",
        "\n",
        "3Q) What are the different ways to define and call a function in Python?\n",
        "Ans)In Python, a function is defined using the def keyword followed by the function name and parentheses.\n",
        "    Functions can be defined in different ways: without parameters, with parameters, with default parameters, or with a return value.\n",
        "    For example, a simple function without parameters looks like def say_hello():, and one with parameters looks like def greet(name):.\n",
        "    You can also use default values like def greet(name=\"Friend\"):.\n",
        "    To return a value from a function, you use the return keyword, such as def add(a, b): return a + b.\n",
        "    Calling a function is done by writing the function name followed by parentheses.\n",
        "    If the function has parameters, you pass values (called arguments) inside the parentheses.\n",
        "    For example, greet(\"Yameen\") calls the function and sends the value \"Yameen\" as an argument.\n",
        "    You can also call a function with default parameters by simply writing greet() without giving any value.\n",
        "    These different ways of defining and calling functions make Python programs more organized and reusable.\n",
        "\n",
        "\n",
        "4Q) What is the purpose of the `return` statement in a Python function?\n",
        "Ans) The return statement in a Python function is used to send a value back to where the function was called.\n",
        "    It helps the function give a result that can be stored in a variable or used later in the program.\n",
        "    If you don’t use return, the function will run but won’t give back any value.\n",
        "    For example:\n",
        "    def add(a, b):\n",
        "       return a + b\n",
        "\n",
        "    result = add(5, 3)\n",
        "    print(result)  # Output: 8\n",
        "\n",
        "5Q) What are iterators in Python and how do they differ from iterables?\n",
        "Ans)In Python, iterators are objects that allow you to go through (iterate) one item at a time.\n",
        "    An iterator has two main methods: __iter__() and __next__().\n",
        "    You can get the next item using next().\n",
        "    On the other hand, iterables are objects that contain a group of items, like lists, strings, or tuples.\n",
        "    You can get an iterator from an iterable using the iter() function.\n",
        "    The main difference is: iterables can be looped through, but iterators are the tools that do the actual looping.\n",
        "    For example:\n",
        "      my_list = [10, 20, 30]      # This is an iterable\n",
        "      my_iter = iter(my_list)     # This is an iterator\n",
        "\n",
        "      print(next(my_iter))  # Output: 10\n",
        "      print(next(my_iter))  # Output: 20\n",
        "\n",
        "6Q) Explain the concept of generators in Python and how they are defined.\n",
        "Ans)  In Python, generators are a special type of function that return values one at a time using the yield keyword.\n",
        "      Unlike normal functions that return all results at once, generators pause after each yield and continue from the same point when called again.\n",
        "      This makes them memory-efficient, especially when working with large data or long loops.\n",
        "      Generators are defined like normal functions using the def keyword, but instead of return, they use yield to give values one by one.\n",
        "      For example, a generator that yields numbers could look like this:\n",
        "      def count_up():\n",
        "         yield 1\n",
        "         yield 2\n",
        "         yield 3\n",
        "7Q). What are the advantages of using generators over regular functions?\n",
        "Ans) Generators have many advantages over regular functions in Python, especially when working with large data.\n",
        "    The biggest benefit is that generators save memory.\n",
        "    Regular functions return all values at once, which can take up a lot of space. But generators give one value at a time using yield, so they don’t store the whole result in memory.\n",
        "    This makes programs faster and more efficient.\n",
        "    Also, generators are easier to write than creating a full class-based iterator.\n",
        "    They also pause and resume automatically, which helps in looping through large sequences without slowing down the program.\n",
        "    In short, generators are useful for better speed, memory saving, and cleaner code.\n",
        "\n",
        "8Q) What is a lambda function in Python and when is it typically used?\n",
        "Ans)A lambda function in Python is a small, one-line anonymous function that does not need a name.\n",
        "    It is defined using the lambda keyword, followed by the inputs and the expression.\n",
        "    Lambda functions are mostly used when we need a simple function for a short time, usually inside other functions like map(), filter(), or sorted().\n",
        "    They are useful when writing quick logic without creating a full function using def.\n",
        "\n",
        "    Example:\n",
        "    square = lambda x: x ** 2\n",
        "    print(square(5))  # Output: 25\n",
        "9Q)Explain the purpose and usage of the `map()` function in Python.\n",
        "Ans)The map() function in Python is used to apply a function to each item in a list (or any iterable).\n",
        "    It helps to perform the same operation on all elements without writing a loop.\n",
        "    The map() function takes two inputs: the function to apply and the iterable (like a list).\n",
        "    It returns a map object, which can be changed into a list using the list() function.\n",
        "    This is useful when you want to quickly apply a function to many items.\n",
        "\n",
        "     Example:\n",
        "     numbers = [1, 2, 3, 4]\n",
        "     squared = map(lambda x: x*x, numbers)\n",
        "     print(list(squared))  # Output: [1, 4, 9, 16]\n",
        "\n",
        "10Q) What is the difference between `map()`, `reduce()`, and `filter()` functions in Python?\n",
        "Ans) In Python, the functions map(), reduce(), and filter() are used to work with data in a clean and fast way.\n",
        "     The map() function applies a given function to each item in an iterable (like a list) and returns the result.\n",
        "     The filter() function is used to select items from an iterable based on a condition — it only keeps the items for which the function returns True.\n",
        "     The reduce() function, which comes from the functools module, reduces all items to a single value by repeatedly applying a function to two items at a time.\n",
        "\n",
        "      Example:\n",
        "      from functools import reduce\n",
        "\n",
        "       nums = [1, 2, 3, 4]\n",
        "\n",
        "       print(list(map(lambda x: x*x, nums)))      # [1, 4, 9, 16]\n",
        "       print(list(filter(lambda x: x%2 == 0, nums)))  # [2, 4]\n",
        "       print(reduce(lambda x, y: x + y, nums))    # 10\n",
        "\n",
        "     In simple words:\n",
        "\n",
        "       map() changes all items,\n",
        "\n",
        "       filter() picks some items,\n",
        "\n",
        "       reduce() combines all items into one.\n",
        "\n",
        "11Q) Using pen & Paper write the internal mechanism for sum operation using  reduce function on this given list:[47,11,42,13];\n",
        "Ans)\n",
        "    from functools import reduce\n",
        "    nums = [47, 11, 42, 13]\n",
        "    result = reduce(lambda x, y: x + y, nums)\n",
        "    Step-by-step internal working of reduce():\n",
        "    We have:\n",
        "    List: [47, 11, 42, 13]\n",
        "    Function: lambda x, y: x + y (i.e., addition)\n",
        "\n",
        "    Now, let’s reduce it step by step:\n",
        "    First Step:\n",
        "    x = 47, y = 11\n",
        "    → 47 + 11 = 58\n",
        "\n",
        "    Second Step:\n",
        "    x = 58, y = 42\n",
        "    → 58 + 42 = 100\n",
        "\n",
        "    Third Step:\n",
        "    x = 100, y = 13\n",
        "    → 100 + 13 = 113\n",
        "\n",
        "    Final Result: 113\n",
        "    So, the reduce() function does the operation like this:\n",
        "\n",
        "    Copy code\n",
        "    (((47 + 11) + 42) + 13) = 113\n",
        "   This is how the sum is calculated internally using reduce().\n",
        "\n",
        "\"\"\""
      ]
    },
    {
      "cell_type": "markdown",
      "source": [
        "# **Practical Questions:**"
      ],
      "metadata": {
        "id": "hseiYKKEWhux"
      }
    },
    {
      "cell_type": "code",
      "source": [
        "#1Q. 1. Write a Python function that takes a list of numbers as input and returns the sum of all even numbers in the list.\n",
        "def sum_of_even_numbers(numbers):\n",
        "    total = 0\n",
        "    for num in numbers:\n",
        "        if num % 2 == 0:\n",
        "            total += num\n",
        "    return total\n",
        "\n",
        "# Example usage:\n",
        "my_list = [10, 15, 8, 23, 4]\n",
        "result = sum_of_even_numbers(my_list)\n",
        "print(\"Sum of even numbers:\", result)\n"
      ],
      "metadata": {
        "colab": {
          "base_uri": "https://localhost:8080/"
        },
        "id": "SnU8b9_hWm7q",
        "outputId": "eb38ef23-4e14-4a1a-81c6-25a5a1dabdb8"
      },
      "execution_count": 1,
      "outputs": [
        {
          "output_type": "stream",
          "name": "stdout",
          "text": [
            "Sum of even numbers: 22\n"
          ]
        }
      ]
    },
    {
      "cell_type": "code",
      "source": [
        "#2Q. Create a Python function that accepts a string and returns the reverse of that string.\n",
        "def reverse_string(text):\n",
        "    return text[::-1]\n",
        "\n",
        "# Example usage:\n",
        "input_text = \"Python\"\n",
        "reversed_text = reverse_string(input_text)\n",
        "print(\"Reversed string:\", reversed_text)\n"
      ],
      "metadata": {
        "colab": {
          "base_uri": "https://localhost:8080/"
        },
        "id": "_l88AxCqW_G3",
        "outputId": "647e9c04-a3b3-4d4f-8e1d-7036c089b398"
      },
      "execution_count": 2,
      "outputs": [
        {
          "output_type": "stream",
          "name": "stdout",
          "text": [
            "Reversed string: nohtyP\n"
          ]
        }
      ]
    },
    {
      "cell_type": "code",
      "source": [
        "#  3Q. Implement a Python function that takes a list of integers and returns a new list containing the squares of each number.\n",
        "def square_list(numbers):\n",
        "    squared = []\n",
        "    for num in numbers:\n",
        "        squared.append(num * num)\n",
        "    return squared\n",
        "\n",
        "# Example usage:\n",
        "my_list = [1, 2, 3, 4, 5]\n",
        "result = square_list(my_list)\n",
        "print(\"Squared list:\", result)\n"
      ],
      "metadata": {
        "colab": {
          "base_uri": "https://localhost:8080/"
        },
        "id": "-n9oFfX5XL05",
        "outputId": "12fe41a0-0f76-48da-a3f0-32debcd7f3ba"
      },
      "execution_count": 3,
      "outputs": [
        {
          "output_type": "stream",
          "name": "stdout",
          "text": [
            "Squared list: [1, 4, 9, 16, 25]\n"
          ]
        }
      ]
    },
    {
      "cell_type": "code",
      "source": [
        "#4Q) Write a Python function that checks if a given number is prime or not from 1 to 200.\n",
        "def is_prime(n):\n",
        "    if n < 2:\n",
        "        return False  # 0 and 1 are not prime\n",
        "    for i in range(2, int(n**0.5) + 1):  # Check up to square root of n\n",
        "        if n % i == 0:\n",
        "            return False\n",
        "    return True\n",
        "\n",
        "# Example: Check numbers from 1 to 200\n",
        "for num in range(1, 201):\n",
        "    if is_prime(num):\n",
        "        print(f\"{num} is a prime number.\")\n"
      ],
      "metadata": {
        "colab": {
          "base_uri": "https://localhost:8080/"
        },
        "id": "fcCRsgH1XbuM",
        "outputId": "f287bbbb-4179-4c33-ef5b-8328cf60f12f"
      },
      "execution_count": 4,
      "outputs": [
        {
          "output_type": "stream",
          "name": "stdout",
          "text": [
            "2 is a prime number.\n",
            "3 is a prime number.\n",
            "5 is a prime number.\n",
            "7 is a prime number.\n",
            "11 is a prime number.\n",
            "13 is a prime number.\n",
            "17 is a prime number.\n",
            "19 is a prime number.\n",
            "23 is a prime number.\n",
            "29 is a prime number.\n",
            "31 is a prime number.\n",
            "37 is a prime number.\n",
            "41 is a prime number.\n",
            "43 is a prime number.\n",
            "47 is a prime number.\n",
            "53 is a prime number.\n",
            "59 is a prime number.\n",
            "61 is a prime number.\n",
            "67 is a prime number.\n",
            "71 is a prime number.\n",
            "73 is a prime number.\n",
            "79 is a prime number.\n",
            "83 is a prime number.\n",
            "89 is a prime number.\n",
            "97 is a prime number.\n",
            "101 is a prime number.\n",
            "103 is a prime number.\n",
            "107 is a prime number.\n",
            "109 is a prime number.\n",
            "113 is a prime number.\n",
            "127 is a prime number.\n",
            "131 is a prime number.\n",
            "137 is a prime number.\n",
            "139 is a prime number.\n",
            "149 is a prime number.\n",
            "151 is a prime number.\n",
            "157 is a prime number.\n",
            "163 is a prime number.\n",
            "167 is a prime number.\n",
            "173 is a prime number.\n",
            "179 is a prime number.\n",
            "181 is a prime number.\n",
            "191 is a prime number.\n",
            "193 is a prime number.\n",
            "197 is a prime number.\n",
            "199 is a prime number.\n"
          ]
        }
      ]
    },
    {
      "cell_type": "code",
      "source": [
        "#5Q)  Create an iterator class in Python that generates the Fibonacci sequence up to a specified number of terms.\n",
        "class FibonacciIterator:\n",
        "    def __init__(self, max_terms):\n",
        "        self.max_terms = max_terms  # Total number of terms to generate\n",
        "        self.count = 0              # Current term index\n",
        "        self.a, self.b = 0, 1       # Starting values of Fibonacci sequence\n",
        "\n",
        "    def __iter__(self):\n",
        "        return self  # The class itself is an iterator\n",
        "\n",
        "    def __next__(self):\n",
        "        if self.count >= self.max_terms:\n",
        "            raise StopIteration  # End of iteration\n",
        "        self.count += 1\n",
        "        result = self.a\n",
        "        self.a, self.b = self.b, self.a + self.b  # Update values\n",
        "        return result\n",
        "\n",
        "# Example usage:\n",
        "fib = FibonacciIterator(10)\n",
        "for num in fib:\n",
        "    print(num)\n"
      ],
      "metadata": {
        "colab": {
          "base_uri": "https://localhost:8080/"
        },
        "id": "muRU6kUzXwVx",
        "outputId": "14eaa279-030a-45ca-e237-35c603f3b3fe"
      },
      "execution_count": 5,
      "outputs": [
        {
          "output_type": "stream",
          "name": "stdout",
          "text": [
            "0\n",
            "1\n",
            "1\n",
            "2\n",
            "3\n",
            "5\n",
            "8\n",
            "13\n",
            "21\n",
            "34\n"
          ]
        }
      ]
    },
    {
      "cell_type": "code",
      "source": [
        "#6Q)Write a generator function in Python that yields the powers of 2 up to a given exponent.\n",
        "def powers_of_two(max_exponent):\n",
        "    for exp in range(max_exponent + 1):\n",
        "        yield 2 ** exp\n",
        "\n",
        "# 💡 Example usage:\n",
        "for power in powers_of_two(5):\n",
        "    print(power)\n"
      ],
      "metadata": {
        "colab": {
          "base_uri": "https://localhost:8080/"
        },
        "id": "Lgnek4BsYEeO",
        "outputId": "8c6c8a99-e10d-4f46-b55d-1bfb1818994f"
      },
      "execution_count": 6,
      "outputs": [
        {
          "output_type": "stream",
          "name": "stdout",
          "text": [
            "1\n",
            "2\n",
            "4\n",
            "8\n",
            "16\n",
            "32\n"
          ]
        }
      ]
    },
    {
      "cell_type": "code",
      "source": [
        "#7Q)Implement a generator function that reads a file line by line and yields each line as a string.\n",
        "\n",
        "def read_file_line_by_line(file_path):\n",
        "    try:\n",
        "        with open(file_path, 'r') as file:\n",
        "            for line in file:\n",
        "                yield line.strip()  # Removes the newline character\n",
        "    except FileNotFoundError:\n",
        "        print(f\"File not found: {file_path}\")\n",
        "    except Exception as e:\n",
        "        print(f\"An error occurred: {e}\")\n",
        "\n",
        "for line in read_file_line_by_line('example.txt'):\n",
        "    print(line)\n",
        "\n",
        "\n"
      ],
      "metadata": {
        "colab": {
          "base_uri": "https://localhost:8080/"
        },
        "id": "YCurrtgcYHt1",
        "outputId": "058b6ff7-c353-44c5-e219-1a002563412e"
      },
      "execution_count": 10,
      "outputs": [
        {
          "output_type": "stream",
          "name": "stdout",
          "text": [
            "File not found: example.txt\n"
          ]
        }
      ]
    },
    {
      "cell_type": "code",
      "source": [
        "#8Q) Use a lambda function in Python to sort a list of tuples based on the second element of each tuple.\n",
        "# List of tuples\n",
        "data = [(1, 5), (3, 1), (2, 8), (4, 3)]\n",
        "\n",
        "# Sort using lambda by the second element (index 1)\n",
        "sorted_data = sorted(data, key=lambda x: x[1])\n",
        "\n",
        "print(\"Sorted list:\", sorted_data)\n"
      ],
      "metadata": {
        "colab": {
          "base_uri": "https://localhost:8080/"
        },
        "id": "zKFdeoQ8YKxO",
        "outputId": "023ff914-4ece-45c7-def0-45f1e05b6065"
      },
      "execution_count": 11,
      "outputs": [
        {
          "output_type": "stream",
          "name": "stdout",
          "text": [
            "Sorted list: [(3, 1), (4, 3), (1, 5), (2, 8)]\n"
          ]
        }
      ]
    },
    {
      "cell_type": "code",
      "source": [
        "#9Q)Write a Python program that uses `map()` to convert a list of temperatures from Celsius to Fahrenheit.\n",
        "# List of temperatures in Celsius\n",
        "celsius = [0, 20, 37, 100]\n",
        "\n",
        "# Convert to Fahrenheit using map and lambda\n",
        "fahrenheit = list(map(lambda c: (c * 9/5) + 32, celsius))\n",
        "\n",
        "# Print the result\n",
        "print(\"Temperatures in Fahrenheit:\", fahrenheit)\n"
      ],
      "metadata": {
        "colab": {
          "base_uri": "https://localhost:8080/"
        },
        "id": "uAC-4rmAYNgo",
        "outputId": "9207da77-2704-4866-f5fe-068d2486fff3"
      },
      "execution_count": 12,
      "outputs": [
        {
          "output_type": "stream",
          "name": "stdout",
          "text": [
            "Temperatures in Fahrenheit: [32.0, 68.0, 98.6, 212.0]\n"
          ]
        }
      ]
    },
    {
      "cell_type": "code",
      "source": [
        "#10Q)Create a Python program that uses `filter()` to remove all the vowels from a given string.\n",
        "def remove_vowels(input_string):\n",
        "    vowels = 'aeiouAEIOU'\n",
        "    result = ''.join(filter(lambda char: char not in vowels, input_string))\n",
        "    return result\n",
        "\n",
        "# Example usage\n",
        "text = \"Python is Awesome\"\n",
        "output = remove_vowels(text)\n",
        "print(\"String without vowels:\", output)\n"
      ],
      "metadata": {
        "colab": {
          "base_uri": "https://localhost:8080/"
        },
        "id": "lQnLvJZvYO_5",
        "outputId": "d26279c2-39c8-456a-a06f-3f07919e831a"
      },
      "execution_count": 13,
      "outputs": [
        {
          "output_type": "stream",
          "name": "stdout",
          "text": [
            "String without vowels: Pythn s wsm\n"
          ]
        }
      ]
    },
    {
      "cell_type": "code",
      "source": [
        "#11Q)magine an accounting routine used in a book shop. It works on a list with sublists, which look like this"
      ],
      "metadata": {
        "id": "V-ToAMutYPuH"
      },
      "execution_count": null,
      "outputs": []
    },
    {
      "cell_type": "code",
      "source": [
        "#11A)Write a Python program, which returns a list with 2-tuples. Each tuple consists of the order number and the product of the price per item and the quantity. The product should be increased by 10,- € if the value of the order is smaller than 100,00 €\n",
        "\n",
        "orders = [\n",
        "    [34587, \"Learning Python, Mark Lutz\", 4, 40.95],\n",
        "    [98762, \"Programming Python, Mark Lutz\", 5, 56.80],\n",
        "    [77226, \"Head First Python, Paul Barry\", 3, 32.95],\n",
        "    [88112, \"Einfuhrung in Python3, Bernd Klein\", 3, 24.99]\n",
        "]\n",
        "\n",
        "result = []\n",
        "\n",
        "for order in orders:\n",
        "    order_number = order[0]\n",
        "    quantity = order[2]\n",
        "    price_per_item = order[3]\n",
        "\n",
        "    total = quantity * price_per_item\n",
        "\n",
        "    if total < 100:\n",
        "        total += 10  # Add 10 € if order is less than 100 €\n",
        "\n",
        "    total = round(total, 2)  # Round to 2 decimal places\n",
        "    result.append((order_number, total))\n",
        "\n",
        "print(result)\n"
      ],
      "metadata": {
        "colab": {
          "base_uri": "https://localhost:8080/"
        },
        "id": "Ug8g965vYYyB",
        "outputId": "1658f772-1eb0-48fe-cd61-67e871a7fa03"
      },
      "execution_count": 16,
      "outputs": [
        {
          "output_type": "stream",
          "name": "stdout",
          "text": [
            "[(34587, 163.8), (98762, 284.0), (77226, 108.85), (88112, 84.97)]\n"
          ]
        }
      ]
    },
    {
      "cell_type": "code",
      "source": [
        "#11B) Write a Python program using lambda and map.\n",
        "orders = [\n",
        "    [34587, \"Learning Python, Mark Lutz\", 4, 40.95],\n",
        "    [98762, \"Programming Python, Mark Lutz\", 5, 56.80],\n",
        "    [77226, \"Head First Python, Paul Barry\", 3, 32.95],\n",
        "    [88112, \"Einfuhrung in Python3, Bernd Klein\", 3, 24.99]\n",
        "]\n",
        "\n",
        "result = list(map(lambda order: (\n",
        "    order[0],\n",
        "    round(order[2] * order[3] + 10 if order[2] * order[3] < 100 else order[2] * order[3], 2)\n",
        "), orders))\n",
        "\n",
        "print(result)\n"
      ],
      "metadata": {
        "colab": {
          "base_uri": "https://localhost:8080/"
        },
        "id": "RV-4ZN7yYffi",
        "outputId": "7cd033cd-3549-4fcf-de84-045d07906538"
      },
      "execution_count": 17,
      "outputs": [
        {
          "output_type": "stream",
          "name": "stdout",
          "text": [
            "[(34587, 163.8), (98762, 284.0), (77226, 108.85), (88112, 84.97)]\n"
          ]
        }
      ]
    }
  ]
}